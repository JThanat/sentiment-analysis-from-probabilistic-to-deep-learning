{
 "cells": [
  {
   "cell_type": "code",
   "execution_count": 2,
   "metadata": {},
   "outputs": [],
   "source": [
    "import numpy as np\n",
    "import tensorflow as tf\n",
    "tf.keras.backend.set_floatx('float64')\n",
    "corpus_raw = 'He is the king . The king is royal . She is the royal  queen '\n",
    "# convert to lower case\n",
    "corpus_raw = corpus_raw.lower()"
   ]
  },
  {
   "cell_type": "code",
   "execution_count": 3,
   "metadata": {},
   "outputs": [],
   "source": [
    "words = []\n",
    "for word in corpus_raw.split():\n",
    "    if word != '.': # because we don't want to treat . as a word\n",
    "        words.append(word)\n",
    "words = set(words) # so that all duplicate words are removed\n",
    "word2int = {}\n",
    "int2word = {}\n",
    "vocab_size = len(words) # gives the total number of unique words\n",
    "for i,word in enumerate(words):\n",
    "    word2int[word] = i\n",
    "    int2word[i] = word"
   ]
  },
  {
   "cell_type": "code",
   "execution_count": 4,
   "metadata": {},
   "outputs": [
    {
     "name": "stdout",
     "output_type": "stream",
     "text": [
      "{'he', 'royal', 'the', 'king', 'is', 'queen', 'she'}\n",
      "{'he': 0, 'royal': 1, 'the': 2, 'king': 3, 'is': 4, 'queen': 5, 'she': 6}\n",
      "{0: 'he', 1: 'royal', 2: 'the', 3: 'king', 4: 'is', 5: 'queen', 6: 'she'}\n",
      "7\n"
     ]
    }
   ],
   "source": [
    "print(words)\n",
    "print(word2int)\n",
    "print(int2word)\n",
    "print(vocab_size)"
   ]
  },
  {
   "cell_type": "code",
   "execution_count": 5,
   "metadata": {},
   "outputs": [],
   "source": [
    "# raw sentences is a list of sentences.\n",
    "raw_sentences = corpus_raw.split('.')\n",
    "sentences = []\n",
    "for sentence in raw_sentences:\n",
    "    sentences.append(sentence.split())"
   ]
  },
  {
   "cell_type": "code",
   "execution_count": 6,
   "metadata": {},
   "outputs": [
    {
     "name": "stdout",
     "output_type": "stream",
     "text": [
      "[['he', 'is', 'the', 'king'], ['the', 'king', 'is', 'royal'], ['she', 'is', 'the', 'royal', 'queen']]\n"
     ]
    }
   ],
   "source": [
    "print(sentences)"
   ]
  },
  {
   "cell_type": "code",
   "execution_count": 7,
   "metadata": {},
   "outputs": [],
   "source": [
    "data = []\n",
    "WINDOW_SIZE = 2\n",
    "for sentence in sentences:\n",
    "    for word_index, word in enumerate(sentence):\n",
    "        for nb_word in sentence[max(word_index - WINDOW_SIZE, 0) : min(word_index + WINDOW_SIZE, len(sentence)) + 1] : \n",
    "            if nb_word != word:\n",
    "                data.append([word, nb_word])"
   ]
  },
  {
   "cell_type": "code",
   "execution_count": 9,
   "metadata": {},
   "outputs": [
    {
     "name": "stdout",
     "output_type": "stream",
     "text": [
      "[['he', 'is'], ['he', 'the'], ['is', 'he'], ['is', 'the'], ['is', 'king'], ['the', 'he'], ['the', 'is'], ['the', 'king'], ['king', 'is'], ['king', 'the'], ['the', 'king'], ['the', 'is'], ['king', 'the'], ['king', 'is'], ['king', 'royal'], ['is', 'the'], ['is', 'king'], ['is', 'royal'], ['royal', 'king'], ['royal', 'is'], ['she', 'is'], ['she', 'the'], ['is', 'she'], ['is', 'the'], ['is', 'royal'], ['the', 'she'], ['the', 'is'], ['the', 'royal'], ['the', 'queen'], ['royal', 'is'], ['royal', 'the'], ['royal', 'queen'], ['queen', 'the'], ['queen', 'royal']]\n"
     ]
    }
   ],
   "source": [
    "print(data)"
   ]
  },
  {
   "cell_type": "code",
   "execution_count": 8,
   "metadata": {},
   "outputs": [],
   "source": [
    "# function to convert numbers to one hot vectors\n",
    "def to_one_hot(data_point_index, vocab_size):\n",
    "    temp = np.zeros(vocab_size)\n",
    "    temp[data_point_index] = 1\n",
    "    return temp\n",
    "x_train = [] # input word\n",
    "y_train = [] # output word\n",
    "for data_word in data:\n",
    "    x_train.append(to_one_hot(word2int[ data_word[0] ], vocab_size))\n",
    "    y_train.append(to_one_hot(word2int[ data_word[1] ], vocab_size))\n",
    "# convert them to numpy arrays\n",
    "x_train = np.asarray(x_train)\n",
    "y_train = np.asarray(y_train)"
   ]
  },
  {
   "cell_type": "code",
   "execution_count": 9,
   "metadata": {},
   "outputs": [
    {
     "name": "stdout",
     "output_type": "stream",
     "text": [
      "[[0. 0. 0. 0. 1. 0. 0.]\n",
      " [0. 0. 0. 0. 1. 0. 0.]\n",
      " [1. 0. 0. 0. 0. 0. 0.]\n",
      " [1. 0. 0. 0. 0. 0. 0.]\n",
      " [1. 0. 0. 0. 0. 0. 0.]]\n",
      "[[1. 0. 0. 0. 0. 0. 0.]\n",
      " [0. 0. 0. 1. 0. 0. 0.]\n",
      " [0. 0. 0. 0. 1. 0. 0.]\n",
      " [0. 0. 0. 1. 0. 0. 0.]\n",
      " [0. 1. 0. 0. 0. 0. 0.]]\n"
     ]
    }
   ],
   "source": [
    "print(x_train[:5,:])\n",
    "print(y_train[:5,:])"
   ]
  },
  {
   "cell_type": "markdown",
   "metadata": {},
   "source": [
    "# Tensorflow"
   ]
  },
  {
   "cell_type": "code",
   "execution_count": 10,
   "metadata": {},
   "outputs": [],
   "source": [
    "# https://towardsdatascience.com/learn-word2vec-by-implementing-it-in-tensorflow-45641adaf2ac\n",
    "\n",
    "from tensorflow.keras.layers import Dense\n",
    "from tensorflow.keras import Model\n",
    "\n",
    "\n",
    "class WordVec(Model):\n",
    "    def __init__(self, dim, vocab_size):\n",
    "        super(WordVec, self).__init__()\n",
    "        self.w1 = Dense(dim)\n",
    "        self.w2 = Dense(vocab_size)\n",
    "\n",
    "    def call(self, x):\n",
    "        hidden_representation = self.w1(x)\n",
    "        prediction = tf.nn.softmax( self.w2(hidden_representation))\n",
    "        return prediction\n",
    "\n",
    "model = WordVec(5, vocab_size)\n",
    "\n",
    "optimizer = tf.keras.optimizers.SGD(learning_rate=0.1)\n",
    "\n",
    "\n",
    "train_loss = tf.keras.metrics.Mean(name='train_loss')\n",
    "train_accuracy = tf.keras.metrics.CategoricalAccuracy(name='train_accuracy')\n",
    "\n",
    "\n",
    "\n",
    "\n",
    "@tf.function\n",
    "def train_step(X, labels):\n",
    "\n",
    "    with tf.GradientTape() as tape:\n",
    "        \n",
    "        predictions = model(X, training=True)\n",
    "#         loss = tf.nn.softmax_cross_entropy_with_logits(labels, predictions)\n",
    "#         loss = tf.nn.log_poisson_loss(labels, predictions)\n",
    "        loss = tf.reduce_mean(-tf.reduce_sum(labels * tf.math.log(predictions), axis=[1]))\n",
    "#         loss = tf.compat.v1.losses.log_loss(labels, predictions, reduction=\"weighted_mean\")\n",
    "\n",
    "#         loss_obj = tf.keras.losses.MeanSquaredLogarithmicError()\n",
    "#         loss = loss_obj(labels, predictions)\n",
    "        \n",
    "    gradients = tape.gradient(loss, model.trainable_variables)\n",
    "    \n",
    "    optimizer.apply_gradients(zip(gradients, model.trainable_variables))\n",
    "\n",
    "    train_loss(loss)\n",
    "\n",
    "    train_accuracy(labels, predictions)"
   ]
  },
  {
   "cell_type": "code",
   "execution_count": 11,
   "metadata": {},
   "outputs": [
    {
     "name": "stdout",
     "output_type": "stream",
     "text": [
      "loss tf.Tensor(2.0204321840431856, shape=(), dtype=float64)\n",
      "loss tf.Tensor(1.3350982716867668, shape=(), dtype=float64)\n",
      "loss tf.Tensor(1.3249273928256557, shape=(), dtype=float64)\n",
      "loss tf.Tensor(1.3228893729548918, shape=(), dtype=float64)\n",
      "loss tf.Tensor(1.3220709109647681, shape=(), dtype=float64)\n",
      "loss tf.Tensor(1.3216403568577544, shape=(), dtype=float64)\n",
      "loss tf.Tensor(1.3213782813495907, shape=(), dtype=float64)\n",
      "loss tf.Tensor(1.3212034194160789, shape=(), dtype=float64)\n",
      "loss tf.Tensor(1.3210791393947632, shape=(), dtype=float64)\n",
      "loss tf.Tensor(1.3209866370761996, shape=(), dtype=float64)\n"
     ]
    }
   ],
   "source": [
    "\n",
    "\n",
    "\n",
    "for epoch in range(10000):\n",
    "    # Reset the metrics at the start of the next epoch\n",
    "\n",
    "    train_loss.reset_states()\n",
    "    train_accuracy.reset_states()\n",
    "\n",
    "    train_step(x_train, y_train)\n",
    "    \n",
    "    \n",
    "\n",
    "    if epoch % 1000 == 0:\n",
    "        print(\"loss\", train_loss.result())\n",
    "#     print(train_accuracy.result())"
   ]
  },
  {
   "cell_type": "code",
   "execution_count": 12,
   "metadata": {},
   "outputs": [],
   "source": [
    "w1 = model.trainable_variables[0].numpy()\n",
    "b1 = model.trainable_variables[1].numpy()"
   ]
  },
  {
   "cell_type": "code",
   "execution_count": 13,
   "metadata": {},
   "outputs": [],
   "source": [
    "from sklearn.metrics.pairwise import cosine_similarity"
   ]
  },
  {
   "cell_type": "code",
   "execution_count": 14,
   "metadata": {},
   "outputs": [
    {
     "data": {
      "text/plain": [
       "array([[ 1.        , -0.14927915, -0.34006704, -0.23298722, -0.3726508 ,\n",
       "         0.5605017 , -0.25414546],\n",
       "       [-0.14927915,  1.        ,  0.77523489, -0.09874597,  0.69175271,\n",
       "         0.73210998,  0.11110732],\n",
       "       [-0.34006704,  0.77523489,  1.        , -0.33638316,  0.99214632,\n",
       "         0.40238293,  0.50130929],\n",
       "       [-0.23298722, -0.09874597, -0.33638316,  1.        , -0.37547505,\n",
       "        -0.24016467, -0.0307881 ],\n",
       "       [-0.3726508 ,  0.69175271,  0.99214632, -0.37547505,  1.        ,\n",
       "         0.3093522 ,  0.54229108],\n",
       "       [ 0.5605017 ,  0.73210998,  0.40238293, -0.24016467,  0.3093522 ,\n",
       "         1.        , -0.14299446],\n",
       "       [-0.25414546,  0.11110732,  0.50130929, -0.0307881 ,  0.54229108,\n",
       "        -0.14299446,  1.        ]])"
      ]
     },
     "execution_count": 14,
     "metadata": {},
     "output_type": "execute_result"
    }
   ],
   "source": [
    "cosine_similarity(w1+b1, w1+b1)"
   ]
  },
  {
   "cell_type": "code",
   "execution_count": 15,
   "metadata": {},
   "outputs": [],
   "source": [
    "from sklearn.metrics import pairwise_distances"
   ]
  },
  {
   "cell_type": "code",
   "execution_count": 16,
   "metadata": {},
   "outputs": [
    {
     "data": {
      "text/plain": [
       "array([[4.21468485e-08, 4.09986393e+00, 4.39337912e+00, 3.92299180e+00,\n",
       "        4.36240174e+00, 2.67424508e+00, 4.28755536e+00],\n",
       "       [4.09986393e+00, 5.96046448e-08, 1.87494951e+00, 3.87919353e+00,\n",
       "        2.15975755e+00, 2.15740921e+00, 3.75844428e+00],\n",
       "       [4.39337912e+00, 1.87494951e+00, 4.21468485e-08, 4.24062655e+00,\n",
       "        3.56003029e-01, 3.19259915e+00, 2.79578762e+00],\n",
       "       [3.92299180e+00, 3.87919353e+00, 4.24062655e+00, 4.21468485e-08,\n",
       "        4.21635223e+00, 4.31316401e+00, 3.76369982e+00],\n",
       "       [4.36240174e+00, 2.15975755e+00, 3.56003029e-01, 4.21635223e+00,\n",
       "        0.00000000e+00, 3.37794130e+00, 2.63336624e+00],\n",
       "       [2.67424508e+00, 2.15740921e+00, 3.19259915e+00, 4.31316401e+00,\n",
       "        3.37794130e+00, 0.00000000e+00, 4.44103225e+00],\n",
       "       [4.28755536e+00, 3.75844428e+00, 2.79578762e+00, 3.76369982e+00,\n",
       "        2.63336624e+00, 4.44103225e+00, 0.00000000e+00]])"
      ]
     },
     "execution_count": 16,
     "metadata": {},
     "output_type": "execute_result"
    }
   ],
   "source": [
    "pairwise_distances(w1+b1, w1+b1)"
   ]
  },
  {
   "cell_type": "code",
   "execution_count": null,
   "metadata": {},
   "outputs": [],
   "source": []
  },
  {
   "cell_type": "code",
   "execution_count": 17,
   "metadata": {},
   "outputs": [],
   "source": [
    "vectors = w1+b1"
   ]
  },
  {
   "cell_type": "code",
   "execution_count": 18,
   "metadata": {},
   "outputs": [
    {
     "name": "stdout",
     "output_type": "stream",
     "text": [
      "is 0.89717036\n",
      "king 0.25030422\n",
      "she 0.96019673\n",
      "the 0.5068005\n",
      "he -0.9047838\n",
      "queen 0.9838481\n",
      "royal -0.4028841\n"
     ]
    },
    {
     "data": {
      "image/png": "[encoded data removed]",
      "text/plain": [
       "<Figure size 432x288 with 1 Axes>"
      ]
     },
     "metadata": {
      "needs_background": "light"
     },
     "output_type": "display_data"
    }
   ],
   "source": [
    "from sklearn.manifold import TSNE\n",
    "model = TSNE(n_components=2, random_state=0)\n",
    "np.set_printoptions(suppress=True)\n",
    "vectors = model.fit_transform(vectors)\n",
    "\n",
    "from sklearn import preprocessing\n",
    "normalizer = preprocessing.Normalizer()\n",
    "vectors =  normalizer.fit_transform(vectors, 'l2')\n",
    "\n",
    "import matplotlib.pyplot as plt\n",
    "fig, ax = plt.subplots()\n",
    "plt.ylim((-1,1))\n",
    "plt.xlim((-1,1))\n",
    "for word in words:\n",
    "    print(word, vectors[word2int[word]][1])\n",
    "    ax.annotate(word, (vectors[word2int[word]][0],vectors[word2int[word]][1] ))\n",
    "plt.show()"
   ]
  },
  {
   "cell_type": "code",
   "execution_count": null,
   "metadata": {},
   "outputs": [],
   "source": []
  },
  {
   "cell_type": "code",
   "execution_count": null,
   "metadata": {},
   "outputs": [],
   "source": []
  },
  {
   "cell_type": "code",
   "execution_count": 35,
   "metadata": {},
   "outputs": [],
   "source": [
    "# https://towardsdatascience.com/learn-word2vec-by-implementing-it-in-tensorflow-45641adaf2ac\n",
    "\n",
    "from tensorflow.keras.layers import Dense\n",
    "from tensorflow.keras import Model\n",
    "\n",
    "\n",
    "class WordVecV2(Model):\n",
    "    def __init__(self, dim, vocab_size):\n",
    "        super(WordVecV2, self).__init__()\n",
    "        self.w1 = Dense(dim)\n",
    "        self.w2 = Dense(vocab_size)\n",
    "\n",
    "    def call(self, x):\n",
    "        hidden_representation = self.w1(x)\n",
    "        logit = self.w2(hidden_representation)\n",
    "        return logit\n",
    "\n",
    "model = WordVecV2(5, vocab_size)\n",
    "\n",
    "optimizer = tf.keras.optimizers.SGD(learning_rate=0.01)\n",
    "\n",
    "\n",
    "train_loss = tf.keras.metrics.Mean(name='train_loss')\n",
    "train_accuracy = tf.keras.metrics.CategoricalAccuracy(name='train_accuracy')\n",
    "\n",
    "\n",
    "\n",
    "\n",
    "@tf.function\n",
    "def train_step(X, labels):\n",
    "\n",
    "    with tf.GradientTape() as tape:\n",
    "        \n",
    "        logits = model(X, training=True)\n",
    "        loss = tf.nn.softmax_cross_entropy_with_logits(labels, logits, name=\"softmax_cross_entropy\")\n",
    "\n",
    "        \n",
    "    gradients = tape.gradient(loss, model.trainable_variables)    \n",
    "    print(gradients)\n",
    "    optimizer.apply_gradients(zip(gradients, model.trainable_variables))\n",
    "\n",
    "    train_loss(loss)\n"
   ]
  },
  {
   "cell_type": "code",
   "execution_count": 36,
   "metadata": {},
   "outputs": [
    {
     "name": "stdout",
     "output_type": "stream",
     "text": [
      "[<tf.Tensor 'MatMul_2:0' shape=(7, 5) dtype=float64>, <tf.Tensor 'BiasAddGrad_1:0' shape=(5,) dtype=float64>, <tf.Tensor 'MatMul_1:0' shape=(5, 7) dtype=float64>, <tf.Tensor 'BiasAddGrad:0' shape=(7,) dtype=float64>]\n",
      "[<tf.Tensor 'MatMul_2:0' shape=(7, 5) dtype=float64>, <tf.Tensor 'BiasAddGrad_1:0' shape=(5,) dtype=float64>, <tf.Tensor 'MatMul_1:0' shape=(5, 7) dtype=float64>, <tf.Tensor 'BiasAddGrad:0' shape=(7,) dtype=float64>]\n",
      "loss tf.Tensor(2.0197433839938213, shape=(), dtype=float64)\n"
     ]
    }
   ],
   "source": [
    "for epoch in range(10):\n",
    "    # Reset the metrics at the start of the next epoch\n",
    "\n",
    "    train_loss.reset_states()\n",
    "    train_accuracy.reset_states()\n",
    "\n",
    "    train_step(x_train, y_train)\n",
    "    \n",
    "    \n",
    "\n",
    "    if epoch % 1000 == 0:\n",
    "        print(\"loss\", train_loss.result())\n",
    "#     print(train_accuracy.result())"
   ]
  },
  {
   "cell_type": "code",
   "execution_count": 30,
   "metadata": {},
   "outputs": [],
   "source": [
    "w1 = model.trainable_variables[0].numpy()\n",
    "b1 = model.trainable_variables[1].numpy()\n",
    "w2 = model.trainable_variables[2].numpy()\n",
    "b2 = model.trainable_variables[3].numpy()\n",
    "vectors = (w1+b1+ (w2+b2).T)/2"
   ]
  },
  {
   "cell_type": "code",
   "execution_count": 33,
   "metadata": {},
   "outputs": [
    {
     "name": "stdout",
     "output_type": "stream",
     "text": [
      "is 0.89717036\n",
      "king 0.25030422\n",
      "she 0.96019673\n",
      "the 0.5068005\n",
      "he -0.9047838\n",
      "queen 0.9838481\n",
      "royal -0.4028841\n"
     ]
    },
    {
     "data": {
      "image/png": "[encoded data removed]",
      "text/plain": [
       "<Figure size 432x288 with 1 Axes>"
      ]
     },
     "metadata": {
      "needs_background": "light"
     },
     "output_type": "display_data"
    }
   ],
   "source": [
    "from sklearn.manifold import TSNE\n",
    "model = TSNE(n_components=2, random_state=0)\n",
    "np.set_printoptions(suppress=True)\n",
    "vectors = model.fit_transform(vectors)\n",
    "\n",
    "from sklearn import preprocessing\n",
    "normalizer = preprocessing.Normalizer()\n",
    "vectors =  normalizer.fit_transform(vectors, 'l2')\n",
    "\n",
    "import matplotlib.pyplot as plt\n",
    "fig, ax = plt.subplots()\n",
    "plt.ylim((-1,1))\n",
    "plt.xlim((-1,1))\n",
    "for word in words:\n",
    "    print(word, vectors[word2int[word]][1])\n",
    "    ax.annotate(word, (vectors[word2int[word]][0],vectors[word2int[word]][1] ))\n",
    "plt.show()"
   ]
  },
  {
   "cell_type": "code",
   "execution_count": 34,
   "metadata": {},
   "outputs": [
    {
     "data": {
      "text/plain": [
       "array([[0.        , 0.83403826, 0.7237585 , 1.3609363 , 1.8020235 ,\n",
       "        0.6267131 , 1.8792062 ],\n",
       "       [0.83403826, 0.        , 1.4353337 , 1.8481165 , 1.2760538 ,\n",
       "        1.3616506 , 1.9934692 ],\n",
       "       [0.7237585 , 1.4353337 , 0.        , 0.7383446 , 1.9938539 ,\n",
       "        0.10306922, 1.5041249 ],\n",
       "       [1.3609363 , 1.8481165 , 0.7383446 , 0.        , 1.9108495 ,\n",
       "        0.8331521 , 0.91123813],\n",
       "       [1.8020235 , 1.2760538 , 1.9938539 , 1.9108495 , 0.        ,\n",
       "        1.9831305 , 1.4319609 ],\n",
       "       [0.6267131 , 1.3616506 , 0.10306922, 0.8331521 , 1.9831305 ,\n",
       "        0.        , 1.5700583 ],\n",
       "       [1.8792062 , 1.9934692 , 1.5041249 , 0.91123813, 1.4319609 ,\n",
       "        1.5700583 , 0.        ]], dtype=float32)"
      ]
     },
     "execution_count": 34,
     "metadata": {},
     "output_type": "execute_result"
    }
   ],
   "source": [
    "pairwise_distances(vectors, vectors)"
   ]
  },
  {
   "cell_type": "code",
   "execution_count": null,
   "metadata": {},
   "outputs": [],
   "source": []
  }
 ],
 "metadata": {
  "kernelspec": {
   "display_name": "Python 3",
   "language": "python",
   "name": "python3"
  },
  "language_info": {
   "codemirror_mode": {
    "name": "ipython",
    "version": 3
   },
   "file_extension": ".py",
   "mimetype": "text/x-python",
   "name": "python",
   "nbconvert_exporter": "python",
   "pygments_lexer": "ipython3",
   "version": "3.6.8"
  }
 },
 "nbformat": 4,
 "nbformat_minor": 4
}
